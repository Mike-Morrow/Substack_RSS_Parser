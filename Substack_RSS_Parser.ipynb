{
  "nbformat": 4,
  "nbformat_minor": 0,
  "metadata": {
    "colab": {
      "provenance": [],
      "authorship_tag": "ABX9TyNZI0cKQUjO30l6POCXJMBi",
      "include_colab_link": true
    },
    "kernelspec": {
      "name": "python3",
      "display_name": "Python 3"
    },
    "language_info": {
      "name": "python"
    }
  },
  "cells": [
    {
      "cell_type": "markdown",
      "metadata": {
        "id": "view-in-github",
        "colab_type": "text"
      },
      "source": [
        "<a href=\"https://colab.research.google.com/github/Mike-Morrow/Substack_RSS_Parser/blob/main/Substack_RSS_Parser.ipynb\" target=\"_parent\"><img src=\"https://colab.research.google.com/assets/colab-badge.svg\" alt=\"Open In Colab\"/></a>"
      ]
    },
    {
      "cell_type": "code",
      "execution_count": 10,
      "metadata": {
        "colab": {
          "base_uri": "https://localhost:8080/"
        },
        "id": "Gu2jDyZGkikK",
        "outputId": "cb686e79-4c80-4fcd-9680-fa553cacb70e"
      },
      "outputs": [
        {
          "output_type": "stream",
          "name": "stdout",
          "text": [
            "Requirement already satisfied: feedparser in /usr/local/lib/python3.10/dist-packages (6.0.11)\n",
            "Requirement already satisfied: sgmllib3k in /usr/local/lib/python3.10/dist-packages (from feedparser) (1.0.0)\n"
          ]
        }
      ],
      "source": [
        "!pip install feedparser"
      ]
    },
    {
      "cell_type": "code",
      "source": [
        "import feedparser\n",
        "import pandas as pd\n",
        "\n",
        "#URL of the Substack RSS feed\n",
        "feed_url = \"https://your_publication.substack.com/feed\"\n",
        "\n",
        "#Parse the RSS feed\n",
        "feed = feedparser.parse(feed_url)\n",
        "\n",
        "#Extract relevant information from the feed entries\n",
        "data = {\n",
        "    \"Title\": [],\n",
        "    \"Link\": [],\n",
        "    \"Published\": [],\n",
        "    \"Summary\": [],\n",
        "    \"Content\": []\n",
        "}\n",
        "\n",
        "for entry in feed.entries:\n",
        "    data[\"Title\"].append(entry.title)\n",
        "    data[\"Link\"].append(entry.link)\n",
        "    data[\"Published\"].append(entry.published)\n",
        "    data[\"Summary\"].append(entry.summary)\n",
        "    #If content is available, append it, otherwise leave it as an empty string\n",
        "    content = entry.content[0].value if 'content' in entry else \"\"\n",
        "    data[\"Content\"].append(content)\n",
        "\n",
        "#Convert the data into a pandas DataFrame\n",
        "substack_rss_df = pd.DataFrame(data)"
      ],
      "metadata": {
        "id": "GrHUYrxBklzh"
      },
      "execution_count": 11,
      "outputs": []
    },
    {
      "cell_type": "code",
      "source": [
        "html_str = substack_rss_df.iloc[0].Content"
      ],
      "metadata": {
        "id": "RZqC3sVqvpKr"
      },
      "execution_count": 13,
      "outputs": []
    },
    {
      "cell_type": "code",
      "source": [
        "from IPython.display import HTML, Javascript, display\n",
        "\n",
        "display(HTML(html_str))"
      ],
      "metadata": {
        "id": "CojvYD_kktkS",
        "colab": {
          "base_uri": "https://localhost:8080/",
          "height": 1000
        },
        "outputId": "26b17689-d10f-4285-bf01-c4e0d4f6e34a"
      },
      "execution_count": 15,
      "outputs": [
        {
          "output_type": "display_data",
          "data": {
            "text/plain": [
              "<IPython.core.display.HTML object>"
            ],
            "text/html": [
              "<p>I&#8217;m launching a project called <em><a href=\"https://bettergutdigest.com\">Better Gut Digest</a>. </em>I initially wanted to host my website with Substack, but I need more flexibility and control, so I decided to DIY. I considered Wordpress and Ghost &#8212; both the paid/managed versions and the roll-your-own options, but I ultimately landed on using a static site generator because I wanted something simple and low cost. </p><p>As the name suggests, static site generators are software tools designed to generate static html sites. In order to get a blog running with an SSG, the developer needs to provide the following:</p><ul><li><p>HTML templates: these define the look and feel of your webpages </p></li><li><p>Data files: these files spell out global variables that you can refernce in your HTML templates via a templating language (e.g. {{ title }} will insert the blog&#8217;s title into an HTML template)</p></li><li><p>Configuration files: defines how your static site generator actually builds your site (i.e. generates your production-ready HTML outputs)</p></li><li><p>Markdown posts: these are the actual blog posts</p></li><li><p>Static assets: these are the files for images or other media used in the blog posts or other parts of the website</p></li></ul><h3>Functional Diagram of how SSG works</h3><div class=\"captioned-image-container\"><figure><a class=\"image-link image2 is-viewable-imag\" href=\"https://substackcdn.com/image/fetch/f_auto,q_auto:good,fl_progressive:steep/https%3A%2F%2Fsubstack-post-media.s3.amazonaws.com%2Fpublic%2Fimages%2F002cec62-f4e3-4356-8b6d-e3caf283fbc0_2200x1124.png\" target=\"_blank\"><div class=\"image2-inset\"><source type=\"image/webp\" /><img alt=\"\" class=\"sizing-normal\" height=\"744\" src=\"https://substackcdn.com/image/fetch/w_1456,c_limit,f_auto,q_auto:good,fl_progressive:steep/https%3A%2F%2Fsubstack-post-media.s3.amazonaws.com%2Fpublic%2Fimages%2F002cec62-f4e3-4356-8b6d-e3caf283fbc0_2200x1124.png\" width=\"1456\" /><div class=\"image-link-expand\"><svg class=\"lucide lucide-maximize2 \" fill=\"none\" height=\"20\" stroke=\"currentColor\" stroke-linecap=\"round\" stroke-linejoin=\"round\" stroke-width=\"2\" viewBox=\"0 0 24 24\" width=\"20\" xmlns=\"http://www.w3.org/2000/svg\"><polyline points=\"15 3 21 3 21 9\"></polyline><polyline points=\"9 21 3 21 3 15\"></polyline><line x1=\"21\" x2=\"14\" y1=\"3\" y2=\"10\"></line><line x1=\"3\" x2=\"10\" y1=\"21\" y2=\"14\"></line></svg></div></div></a></figure></div><div><hr /></div><p>So far I&#8217;ve tried out Jekyll, Hugo, and Eleventy. I&#8217;ve deployed them both locally and to Netlify. I&#8217;ve tried attaching a CMS. I&#8217;ve tried building from a template vs coding from scratch. My takeaway from all of this: even the simplest setups are more complex that I thought. </p><p>I may change my mind, but I think I&#8217;m going to go with Eleventy and I&#8217;m going to code it from scratch in the beginning to get a feel for how it works &#8212; then I&#8217;ll probably switch to an out-of-the-box template that looks better than what I can make. I&#8217;ll deploy the site to Netlify (which is so much simpler for me than deploying directly on AWS or GCP which is what I&#8217;ve done for previous projects like LatLongExcel.com, Whatinmyfridge.ai, and Groceryplaylist.com). I also will import the project to Netlify from Github so that any time I push a change to Github, my site will be rebuilt and redeployed. </p><p>Going through this setup of making a DIY blog has been harder than I thought, but it&#8217;s been a great learning experience. And it&#8217;s going to be lower cost and more flexible. And if I do a good job, I&#8217;ll also manage to keep it low maintenance and easy for someone to pick up if I no longer become directly involved in the management of it. </p><p></p><p>update (9/21/24): I ended up going with <a href=\"https://github.com/surjithctly/neat-starter\">this Eleventy theme (neat-starter)</a> &#8212; it has a one-click deploy to Netlify option and is preconfigured with a CMS. This basically ticked all my boxes while still being simple and easy to navigate. </p>"
            ]
          },
          "metadata": {}
        }
      ]
    },
    {
      "cell_type": "code",
      "source": [],
      "metadata": {
        "id": "RsgKO6X6vwty"
      },
      "execution_count": null,
      "outputs": []
    }
  ]
}